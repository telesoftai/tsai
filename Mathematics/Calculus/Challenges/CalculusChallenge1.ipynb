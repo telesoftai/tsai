{
 "cells": [
  {
   "cell_type": "markdown",
   "metadata": {},
   "source": [
    "<h1 align=\"center\" style=\"color:red;\">TELESOFT</h1>\n",
    "<h1 align=\"center\" style=\"color:green;\">CALCULUS ESSENTIAL: CHALLENGE</h1>\n",
    "<h3 align=\"center\" style=\"color:green;\"><u>TELESOFTAI: Zephania Reuben</u></h1>"
   ]
  },
  {
   "cell_type": "markdown",
   "metadata": {},
   "source": [
    "### APPLICATION OF CALCULUS IN MACHINE LEARNING.\n",
    " - Many algorithms in machine learning optimize an objective function with respect to a set of desired model parameters that control how well a model explains the data: Finding good parameters can be phrased as an optimization problem.\n",
    " - Examples include:\n",
    " - (i) **Linear regression**, where we look at curve-fitting problems and optimize linear weight parameters to maximize the likelihood;\n",
    " - (ii) **Neural-network auto-encoders for dimensionality reduction and data compression**,where the parameters are the weights and biases of each layer,and where we minimize a reconstruction error by repeated application of\n",
    "the chain rule.\n",
    " - (iii) **Backpropagation**, when training neural networks we mainly use partial derivatives and chain rule to backpropagate and update the values of weight and bias; also in\n",
    " - (iv) **Gaussian mixture models for modeling data distributions**, where we optimize the location and shape parameters of each mixture component to maximize the likelihood of the model."
   ]
  },
  {
   "cell_type": "markdown",
   "metadata": {},
   "source": [
    "<h3 style=\"color:red;\">Question One.</h3><h4 style=\"color:green;\">VECTORS: DIFFERENTIATION.</h4>\n",
    "\n",
    "  Write a Python progam with a function named ${polyder(polycoef)}$ to find the first derivative of given polynomial to achieve automatic differentiation: Use differentiation power rule provided to implement the differentiation: For example when given ${y} = {x}^2 + 2{x} + 1$ it should return $f'(x) = 2{x} + 2$ as the first derivative of $y$ with respect to ${x}$.\n",
    "- Given :\n",
    "<div class=\"alert alert-success\">Differentiation power rule: $f'(x)= {nx}^{n - 1}$  </div>\n",
    "<div class = \"alert alert-success\">${polycoef}$ is an array of coefficients of a polynomial, For example when given ${y} = {x}^2 + 2{x} + 1$ polynomial coeffients are $[1,2,1]$, when the coeffients are passed to the function $polyder([1,2,1])$ the function should return the array of coeffients of the first derivative,which are $[2,2]$."
   ]
  },
  {
   "cell_type": "code",
   "execution_count": 1,
   "metadata": {},
   "outputs": [],
   "source": [
    "#write your code here:"
   ]
  },
  {
   "cell_type": "markdown",
   "metadata": {},
   "source": [
    "<h3 style=\"color:red;\">Question Two.</h3><h4 style=\"color:green;\">VECTORS: INTEGRATION.</h4>"
   ]
  },
  {
   "cell_type": "markdown",
   "metadata": {},
   "source": [
    "  Write a Python progam with a function named ${polyint(polycoef)}$ to find the first order integral of given polynomial to achieve automatic integration: Use integration power rule provided to implement the integration: For example when given ${f'(x)} = 2{x} + 2$  it should return $\\int f(x)dx = {x}^2 + 2{x} + 0$, *$[$ $0$ stands for a constant of integration$]$* as the first order integral of $y$ with respect to ${x}$.\n",
    "- Given :\n",
    "<div class=\"alert alert-success\">Integration power rule: $\\int {f(x)dx}= \\frac{{x}^{n + 1}}{n+1}$  </div>\n",
    "<div class = \"alert alert-success\">${polycoef}$ is an array of coefficients of a polynomial, For example when given ${f(x)} = 2{x} + 2$ polynomial coeffients are $[2,2]$, when the coeffients are passed to the function $polyint([2,2])$ the function should return the array of coeffients of the first order integral,which are $[1,2,0]$."
   ]
  },
  {
   "cell_type": "code",
   "execution_count": 2,
   "metadata": {},
   "outputs": [],
   "source": [
    "#write your code here:"
   ]
  },
  {
   "cell_type": "markdown",
   "metadata": {},
   "source": [
    "<h4 class=\"alert alert-danger\">Note: Do not use any Python library.</h4>"
   ]
  }
 ],
 "metadata": {
  "kernelspec": {
   "display_name": "Python 3",
   "language": "python",
   "name": "python3"
  },
  "language_info": {
   "codemirror_mode": {
    "name": "ipython",
    "version": 3
   },
   "file_extension": ".py",
   "mimetype": "text/x-python",
   "name": "python",
   "nbconvert_exporter": "python",
   "pygments_lexer": "ipython3",
   "version": "3.6.5"
  },
  "toc": {
   "base_numbering": 1,
   "nav_menu": {},
   "number_sections": true,
   "sideBar": true,
   "skip_h1_title": false,
   "title_cell": "Table of Contents",
   "title_sidebar": "Contents",
   "toc_cell": false,
   "toc_position": {},
   "toc_section_display": true,
   "toc_window_display": false
  }
 },
 "nbformat": 4,
 "nbformat_minor": 2
}
