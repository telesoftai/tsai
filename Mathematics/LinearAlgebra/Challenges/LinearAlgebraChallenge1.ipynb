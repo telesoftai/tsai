{
 "cells": [
  {
   "cell_type": "markdown",
   "metadata": {},
   "source": [
    "<h1 align=\"center\" style=\"color:red;\">TELESOFT</h1>\n",
    "<h1 align=\"center\" style=\"color:green;\">LINEAR ALGEBRA ESSENTIAL: CHALLENGE</h1>\n",
    "<h3 align=\"center\" style=\"color:green;\"><u>TELESOFTAI: Zephania Reuben</u></h1>"
   ]
  },
  {
   "cell_type": "markdown",
   "metadata": {},
   "source": [
    " <h3 style=\"color:red;\">Question One.</h3><h4 style=\"color:green;\">VECTORS: Norms.</h4>\n",
    " - **Norms** $\\begin{pmatrix}\\mid \\mid {x} \\mid \\mid \\end{pmatrix}$ are simply measures of distances, as in many machine learning algorithms we are measuring the distance between the actual value and predicted value, then we try to minimize the distance to approach to zero. Norms are applied in Machine Learning algorithms such as **Linear Regression,Dimensionality reduction with Principal Component Analysis (PCA)** and **Nearest Neighbors**.\n",
    " - In calculating norms we have different approaches, Using Python write a program to calculate the norms using the following ways of calculating norms:\n",
    "       \n",
    "      <h5 class=\"alert alert-success\"> a. Minkowski norm: given</h5>\n",
    "<h4 class=\"alert alert-warning\">$$\\mid\\mid x \\mid\\mid_{\\rho} = (\\sum_{i}^{n} \\mid d_i \\mid ^{\\rho})^\\frac{1}{\\rho}$$</h4>\n",
    "      <h5 class=\"alert alert-success\"> b.Manhattan norm : given</h5>\n",
    "<h4 class=\"alert alert-warning\">$$ \\mid\\mid x \\mid \\mid_1 = \\sum_{i}^{n}  \\mid d_i\\mid $$</h4>   \n",
    "      <h5 class=\"alert alert-success\"> c.Euclidean norm: given</h5>\n",
    "<h4 class=\"alert alert-warning\">$$ \\mid\\mid x \\mid\\mid_2 = \\sqrt{\\sum_{i}^{n} {d_i}^2}$$ </h4>   \n",
    "\n",
    "where $d_i = {x_i} - {y_i}$ \n",
    "Then plot the graph of the norms obtained on the same graph using Matplotlib.\n",
    "\n",
    "Given : \n",
    "\n",
    "$ X = \\begin{pmatrix} 1 & 2 & 3 & 4 & 5 \\end{pmatrix}$\n",
    "\n",
    "$ Y = \\begin{pmatrix} 1 & 2 & 3 & 4 & 5 \\end{pmatrix}$\n",
    "\n",
    "That is :\n",
    "\n",
    "```python\n",
    "X = [1,3,2,5,4]\n",
    "Y = [6,8,7,10,9]\n",
    "```"
   ]
  },
  {
   "cell_type": "code",
   "execution_count": 1,
   "metadata": {},
   "outputs": [],
   "source": [
    "#Write your code here: Minkwoski norm."
   ]
  },
  {
   "cell_type": "code",
   "execution_count": 2,
   "metadata": {},
   "outputs": [],
   "source": [
    "#Write your code here: Manhattan norm."
   ]
  },
  {
   "cell_type": "code",
   "execution_count": 3,
   "metadata": {},
   "outputs": [],
   "source": [
    "#Write your code here: Euclidean norm."
   ]
  },
  {
   "cell_type": "code",
   "execution_count": 4,
   "metadata": {},
   "outputs": [],
   "source": [
    "import matplotlib.pyplot as plt\n",
    "#Write your code here: Your graph.\n"
   ]
  },
  {
   "cell_type": "markdown",
   "metadata": {},
   "source": [
    " <h3 style=\"color:red;\">Question Two.</h3> <h4 style=\"color:green;\">Matrices:Linear Combination: System equation. </h4>\n",
    " \n",
    "Given the matrix below write programs to find the following:\n",
    "\n",
    " <h4 class=\"alert alert-warning\">1.${\\mathcal{A}^{T}}$</h4>\n",
    " \n",
    " <h4 class=\"alert alert-warning\">2.${\\mathcal{A}^{-1}}$</h4>\n",
    " \n",
    " <h4 class=\"alert alert-warning\">3.$\\mathcal{A} x \\mathcal{A}$</h4>\n",
    " \n",
    " \n",
    " Given : \n",
    " \n",
    " $\\mathcal{A}  =\\begin{pmatrix}2 & 4 \\\\\\ 5 & 6 \\end{pmatrix}$\n",
    " \n",
    " That is :\n",
    " ```python\n",
    " A = [[2, 4],[5, 6]]\n",
    "```"
   ]
  },
  {
   "cell_type": "code",
   "execution_count": 5,
   "metadata": {},
   "outputs": [],
   "source": [
    "#Write your code here: Transpose of A"
   ]
  },
  {
   "cell_type": "code",
   "execution_count": 6,
   "metadata": {},
   "outputs": [],
   "source": [
    "#Write your code here: Inverse of A"
   ]
  },
  {
   "cell_type": "markdown",
   "metadata": {},
   "source": [
    " <h3 style=\"color:red;\">Question Three.</h3><h4 style=\"color:green;\">Solving problem computationally.</h4>\n",
    " \n",
    "  Given the Linear regression equation below with only one parameter $\\beta$: \n",
    "  \n",
    "<h4 class=\"alert alert-warning\">$ {Y} = \\beta {X}$.</h4>\n",
    "\n",
    "Provided that $Y$ and $X$ are known,write a program to calculate the values of $\\beta$ using the following equation known as  **normal equation**:  \n",
    "\n",
    "<h4 class=\"alert alert-warning\">$$\\beta = ({X^T}{X})^{-1}{X^T}{Y}$$</h4>\n",
    "\n",
    "Given : \n",
    "\n",
    "$ X = \\begin{pmatrix} 1 & 6 & 2 \\\\\\ 1 & 8 & 1 \\\\\\ 1 & 10 & 0 \\end{pmatrix}$\n",
    "\n",
    "$ Y = \\begin{pmatrix} 7 \\\\\\ 9 \\\\\\ 18  \\end{pmatrix}$\n",
    "\n",
    "That is :\n",
    "\n",
    "```python\n",
    "X = [[1, 6, 2], [1, 8, 1], [1, 10, 0]]\n",
    "Y = [[7], [9], [18]]\n",
    "```\n",
    "\n",
    "Then plot a graph a scatter graph and a line fitting the data (best line of fit)."
   ]
  },
  {
   "cell_type": "code",
   "execution_count": 7,
   "metadata": {},
   "outputs": [],
   "source": [
    "#Write your code here: Value of beta"
   ]
  },
  {
   "cell_type": "code",
   "execution_count": 8,
   "metadata": {},
   "outputs": [],
   "source": [
    "import matplotlib.pyplot as plt\n",
    "#Write your code here: Graph"
   ]
  },
  {
   "cell_type": "markdown",
   "metadata": {},
   "source": [
    "<h4 class=\"alert alert-danger\">Do not use any Python library apart from the one imported.</h4>"
   ]
  }
 ],
 "metadata": {
  "kernelspec": {
   "display_name": "Python 3",
   "language": "python",
   "name": "python3"
  },
  "language_info": {
   "codemirror_mode": {
    "name": "ipython",
    "version": 3
   },
   "file_extension": ".py",
   "mimetype": "text/x-python",
   "name": "python",
   "nbconvert_exporter": "python",
   "pygments_lexer": "ipython3",
   "version": "3.6.5"
  },
  "toc": {
   "base_numbering": 1,
   "nav_menu": {},
   "number_sections": true,
   "sideBar": true,
   "skip_h1_title": false,
   "title_cell": "Table of Contents",
   "title_sidebar": "Contents",
   "toc_cell": false,
   "toc_position": {},
   "toc_section_display": true,
   "toc_window_display": false
  }
 },
 "nbformat": 4,
 "nbformat_minor": 2
}
